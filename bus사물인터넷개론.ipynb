{
  "nbformat": 4,
  "nbformat_minor": 0,
  "metadata": {
    "colab": {
      "provenance": [],
      "authorship_tag": "ABX9TyMecFiDmh3m4i6hKaIqgjoB",
      "include_colab_link": true
    },
    "kernelspec": {
      "name": "python3",
      "display_name": "Python 3"
    },
    "language_info": {
      "name": "python"
    }
  },
  "cells": [
    {
      "cell_type": "markdown",
      "metadata": {
        "id": "view-in-github",
        "colab_type": "text"
      },
      "source": [
        "<a href=\"https://colab.research.google.com/github/kimbomini/iotbus/blob/main/bus%EC%82%AC%EB%AC%BC%EC%9D%B8%ED%84%B0%EB%84%B7%EA%B0%9C%EB%A1%A0.ipynb\" target=\"_parent\"><img src=\"https://colab.research.google.com/assets/colab-badge.svg\" alt=\"Open In Colab\"/></a>"
      ]
    },
    {
      "cell_type": "code",
      "execution_count": null,
      "metadata": {
        "id": "EOk6GCUBZwXE",
        "colab": {
          "base_uri": "https://localhost:8080/"
        },
        "outputId": "c43322a4-dba8-498b-bdac-24979e6ceb29"
      },
      "outputs": [
        {
          "output_type": "stream",
          "name": "stdout",
          "text": [
            "<?xml version=\"1.0\" encoding=\"UTF-8\" standalone=\"yes\"?><response><comMsgHeader/><msgHeader><queryTime>2024-03-15 13:37:12.269</queryTime><resultCode>0</resultCode><resultMessage>정상적으로 처리되었습니다.</resultMessage></msgHeader><msgBody><busLocationList><endBus>0</endBus><lowPlate>0</lowPlate><plateNo>경기77아5575</plateNo><plateType>3</plateType><remainSeatCnt>45</remainSeatCnt><routeId>207000070</routeId><stationId>236000521</stationId><stationSeq>81</stationSeq></busLocationList><busLocationList><endBus>0</endBus><lowPlate>0</lowPlate><plateNo>경기72바6005</plateNo><plateType>3</plateType><remainSeatCnt>38</remainSeatCnt><routeId>207000070</routeId><stationId>121000007</stationId><stationSeq>40</stationSeq></busLocationList><busLocationList><endBus>0</endBus><lowPlate>0</lowPlate><plateNo>경기77아5916</plateNo><plateType>3</plateType><remainSeatCnt>37</remainSeatCnt><routeId>207000070</routeId><stationId>207000190</stationId><stationSeq>19</stationSeq></busLocationList><busLocationList><endBus>0</endBus><lowPlate>0</lowPlate><plateNo>경기77아6245</plateNo><plateType>3</plateType><remainSeatCnt>27</remainSeatCnt><routeId>207000070</routeId><stationId>277102788</stationId><stationSeq>34</stationSeq></busLocationList><busLocationList><endBus>0</endBus><lowPlate>0</lowPlate><plateNo>경기77아5914</plateNo><plateType>3</plateType><remainSeatCnt>31</remainSeatCnt><routeId>207000070</routeId><stationId>110000346</stationId><stationSeq>29</stationSeq></busLocationList><busLocationList><endBus>0</endBus><lowPlate>0</lowPlate><plateNo>경기77아5615</plateNo><plateType>3</plateType><remainSeatCnt>38</remainSeatCnt><routeId>207000070</routeId><stationId>236000619</stationId><stationSeq>76</stationSeq></busLocationList><busLocationList><endBus>0</endBus><lowPlate>0</lowPlate><plateNo>경기77아6086</plateNo><plateType>3</plateType><remainSeatCnt>27</remainSeatCnt><routeId>207000070</routeId><stationId>110000003</stationId><stationSeq>56</stationSeq></busLocationList><busLocationList><endBus>0</endBus><lowPlate>0</lowPlate><plateNo>경기77아5918</plateNo><plateType>3</plateType><remainSeatCnt>32</remainSeatCnt><routeId>207000070</routeId><stationId>236000513</stationId><stationSeq>8</stationSeq></busLocationList><busLocationList><endBus>0</endBus><lowPlate>0</lowPlate><plateNo>경기72바6045</plateNo><plateType>3</plateType><remainSeatCnt>40</remainSeatCnt><routeId>207000070</routeId><stationId>207000268</stationId><stationSeq>73</stationSeq></busLocationList><busLocationList><endBus>0</endBus><lowPlate>0</lowPlate><plateNo>경기72바6070</plateNo><plateType>3</plateType><remainSeatCnt>37</remainSeatCnt><routeId>207000070</routeId><stationId>236001243</stationId><stationSeq>4</stationSeq></busLocationList><busLocationList><endBus>0</endBus><lowPlate>0</lowPlate><plateNo>경기72바1222</plateNo><plateType>3</plateType><remainSeatCnt>40</remainSeatCnt><routeId>207000070</routeId><stationId>121000003</stationId><stationSeq>42</stationSeq></busLocationList><busLocationList><endBus>0</endBus><lowPlate>0</lowPlate><plateNo>경기77아6317</plateNo><plateType>4</plateType><remainSeatCnt>65</remainSeatCnt><routeId>207000070</routeId><stationId>236001244</stationId><stationSeq>83</stationSeq></busLocationList><busLocationList><endBus>0</endBus><lowPlate>0</lowPlate><plateNo>경기77아5923</plateNo><plateType>3</plateType><remainSeatCnt>39</remainSeatCnt><routeId>207000070</routeId><stationId>236000521</stationId><stationSeq>81</stationSeq></busLocationList><busLocationList><endBus>0</endBus><lowPlate>0</lowPlate><plateNo>경기77아5917</plateNo><plateType>3</plateType><remainSeatCnt>37</remainSeatCnt><routeId>207000070</routeId><stationId>236000578</stationId><stationSeq>12</stationSeq></busLocationList><busLocationList><endBus>0</endBus><lowPlate>0</lowPlate><plateNo>경기77아6244</plateNo><plateType>3</plateType><remainSeatCnt>24</remainSeatCnt><routeId>207000070</routeId><stationId>121000015</stationId><stationSeq>36</stationSeq></busLocationList><busLocationList><endBus>0</endBus><lowPlate>0</lowPlate><plateNo>경기72바6065</plateNo><plateType>3</plateType><remainSeatCnt>26</remainSeatCnt><routeId>207000070</routeId><stationId>110000085</stationId><stationSeq>61</stationSeq></busLocationList><busLocationList><endBus>0</endBus><lowPlate>0</lowPlate><plateNo>경기77아5915</plateNo><plateType>3</plateType><remainSeatCnt>13</remainSeatCnt><routeId>207000070</routeId><stationId>110000097</stationId><stationSeq>24</stationSeq></busLocationList><busLocationList><endBus>0</endBus><lowPlate>0</lowPlate><plateNo>경기77아5957</plateNo><plateType>3</plateType><remainSeatCnt>28</remainSeatCnt><routeId>207000070</routeId><stationId>236000446</stationId><stationSeq>82</stationSeq></busLocationList><busLocationList><endBus>0</endBus><lowPlate>0</lowPlate><plateNo>경기72바6054</plateNo><plateType>3</plateType><remainSeatCnt>33</remainSeatCnt><routeId>207000070</routeId><stationId>121000008</stationId><stationSeq>46</stationSeq></busLocationList><busLocationList><endBus>0</endBus><lowPlate>0</lowPlate><plateNo>경기72바6082</plateNo><plateType>3</plateType><remainSeatCnt>36</remainSeatCnt><routeId>207000070</routeId><stationId>207000015</stationId><stationSeq>66</stationSeq></busLocationList><busLocationList><endBus>0</endBus><lowPlate>0</lowPlate><plateNo>경기77아6087</plateNo><plateType>3</plateType><remainSeatCnt>18</remainSeatCnt><routeId>207000070</routeId><stationId>277103400</stationId><stationSeq>52</stationSeq></busLocationList></msgBody></response>\n"
          ]
        }
      ],
      "source": [
        "import requests\n",
        "url='http://openapi.gbis.go.kr/ws/rest/buslocationservice?serviceKey=1234567890&routeId=207000070'\n",
        "r=requests.get(url)\n",
        "print(r.text)"
      ]
    }
  ]
}